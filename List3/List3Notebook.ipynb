{
 "cells": [
  {
   "cell_type": "code",
   "execution_count": null,
   "metadata": {
    "collapsed": true
   },
   "outputs": [],
   "source": [
    "#cities - geotext\n",
    "#words = [was, arrived, left, reached, visited, abandoned, departed, stayed, stopped, arrival]\n",
    "#c = geocoder.google(city)\n",
    "#c.latlang[0]<-latitude\n",
    "#[1]<- longitude\n",
    "#Hongkong, Singappur, Calcuta, Bombai - may cause problems\n",
    "#javaScript???"
   ]
  }
 ],
 "metadata": {
  "kernelspec": {
   "display_name": "Python 2",
   "language": "python",
   "name": "python2"
  },
  "language_info": {
   "codemirror_mode": {
    "name": "ipython",
    "version": 2
   },
   "file_extension": ".py",
   "mimetype": "text/x-python",
   "name": "python",
   "nbconvert_exporter": "python",
   "pygments_lexer": "ipython2",
   "version": "2.7.6"
  }
 },
 "nbformat": 4,
 "nbformat_minor": 0
}
