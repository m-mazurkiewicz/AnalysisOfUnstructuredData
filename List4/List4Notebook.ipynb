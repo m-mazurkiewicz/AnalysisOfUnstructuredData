{
 "cells": [
  {
   "cell_type": "code",
   "execution_count": null,
   "metadata": {},
   "outputs": [],
   "source": [
    "#selenium\n",
    "#py2exe\n",
    "#pyinstaller\n",
    "#The elements of statistical learning\n",
    "#Introduction to statistical learning\n",
    "#"
   ]
  },
  {
   "cell_type": "code",
   "execution_count": 47,
   "metadata": {},
   "outputs": [],
   "source": [
    "from tweepy import OAuthHandler \n",
    "import tweepy \n",
    "import json\n",
    "import pickle\n",
    "from geopy.geocoders import Nominatim\n",
    "geolocator = Nominatim(user_agent=\"my-application\")\n",
    "import folium\n",
    "from folium.plugins import MarkerCluster"
   ]
  },
  {
   "cell_type": "code",
   "execution_count": 2,
   "metadata": {},
   "outputs": [],
   "source": [
    "logins = []\n",
    "with open('access_codes.txt', 'r') as file:\n",
    "    for line in file.read().splitlines():\n",
    "        logins.append(line.rstrip().split('=')[1])\n",
    "username, consumer_key, consumer_secret, access_token, access_token_secret = logins"
   ]
  },
  {
   "cell_type": "code",
   "execution_count": 3,
   "metadata": {},
   "outputs": [],
   "source": [
    "auth = OAuthHandler(consumer_key, consumer_secret)\n",
    "auth.set_access_token(access_token, access_token_secret)\n",
    "api = tweepy.API(auth)"
   ]
  },
  {
   "cell_type": "code",
   "execution_count": 4,
   "metadata": {},
   "outputs": [],
   "source": [
    "cities = dict()\n",
    "cities['Krakow'] = (str(geolocator.geocode('Kraków').latitude) + ',' + str(geolocator.geocode('Kraków').longitude))\n",
    "cities['Wroclaw'] = (str(geolocator.geocode('Wrocław').latitude) + ','  + str(geolocator.geocode('Wrocław').longitude))\n",
    "cities['Warszawa'] = (str(geolocator.geocode('Warszawa').latitude) + ','  + str(geolocator.geocode('Warszawa').longitude))"
   ]
  },
  {
   "cell_type": "code",
   "execution_count": 224,
   "metadata": {},
   "outputs": [],
   "source": [
    "wro_tweets = [status for status in  tweepy.Cursor(api.search, q = 'endomondo', geocode = (cities['Wroclaw'] + ',15km')).items()]\n",
    "kra_tweets = [status for status in  tweepy.Cursor(api.search, q = 'endomondo', geocode = (cities['Krakow'] + ',15km')).items()]\n",
    "waw_tweets = [status for status in  tweepy.Cursor(api.search, q = 'endomondo', geocode = (cities['Warszawa'] + ',15km')).items()]"
   ]
  },
  {
   "cell_type": "code",
   "execution_count": 225,
   "metadata": {},
   "outputs": [],
   "source": [
    "with open('wro_tweets.txt', 'wb') as f:\n",
    "    pickle.dump(wro_tweets, f)\n",
    "with open('kra_tweets.txt', 'wb') as f:\n",
    "    pickle.dump(kra_tweets, f)\n",
    "with open('waw_tweets.txt', 'wb') as f:\n",
    "    pickle.dump(waw_tweets, f)"
   ]
  },
  {
   "cell_type": "code",
   "execution_count": 19,
   "metadata": {},
   "outputs": [
    {
     "ename": "TypeError",
     "evalue": "dump() missing required argument 'file' (pos 2)",
     "traceback": [
      "\u001b[1;31m---------------------------------------------------------------------------\u001b[0m",
      "\u001b[1;31mTypeError\u001b[0m                                 Traceback (most recent call last)",
      "\u001b[1;32m<ipython-input-19-6cbc9fe0d30d>\u001b[0m in \u001b[0;36m<module>\u001b[1;34m\u001b[0m\n\u001b[0;32m      1\u001b[0m \u001b[1;32mwith\u001b[0m \u001b[0mopen\u001b[0m\u001b[1;33m(\u001b[0m\u001b[1;34m'wro_tweets.txt'\u001b[0m\u001b[1;33m,\u001b[0m \u001b[1;34m'rb'\u001b[0m\u001b[1;33m)\u001b[0m \u001b[1;32mas\u001b[0m \u001b[0mf\u001b[0m\u001b[1;33m:\u001b[0m\u001b[1;33m\u001b[0m\u001b[0m\n\u001b[1;32m----> 2\u001b[1;33m     \u001b[0mwro_tweets_loaded\u001b[0m \u001b[1;33m=\u001b[0m \u001b[0mpickle\u001b[0m\u001b[1;33m.\u001b[0m\u001b[0mdump\u001b[0m\u001b[1;33m(\u001b[0m\u001b[0mf\u001b[0m\u001b[1;33m)\u001b[0m\u001b[1;33m\u001b[0m\u001b[0m\n\u001b[0m\u001b[0;32m      3\u001b[0m \u001b[1;32mwith\u001b[0m \u001b[0mopen\u001b[0m\u001b[1;33m(\u001b[0m\u001b[1;34m'kra_tweets.txt'\u001b[0m\u001b[1;33m,\u001b[0m \u001b[1;34m'rb'\u001b[0m\u001b[1;33m)\u001b[0m \u001b[1;32mas\u001b[0m \u001b[0mf\u001b[0m\u001b[1;33m:\u001b[0m\u001b[1;33m\u001b[0m\u001b[0m\n\u001b[0;32m      4\u001b[0m     \u001b[0mkra_tweets_loaded\u001b[0m \u001b[1;33m=\u001b[0m \u001b[0mpickle\u001b[0m\u001b[1;33m.\u001b[0m\u001b[0mdump\u001b[0m\u001b[1;33m(\u001b[0m\u001b[0mf\u001b[0m\u001b[1;33m)\u001b[0m\u001b[1;33m\u001b[0m\u001b[0m\n\u001b[0;32m      5\u001b[0m \u001b[1;32mwith\u001b[0m \u001b[0mopen\u001b[0m\u001b[1;33m(\u001b[0m\u001b[1;34m'waw_tweets.txt'\u001b[0m\u001b[1;33m,\u001b[0m \u001b[1;34m'rb'\u001b[0m\u001b[1;33m)\u001b[0m \u001b[1;32mas\u001b[0m \u001b[0mf\u001b[0m\u001b[1;33m:\u001b[0m\u001b[1;33m\u001b[0m\u001b[0m\n",
      "\u001b[1;31mTypeError\u001b[0m: dump() missing required argument 'file' (pos 2)"
     ],
     "output_type": "error"
    }
   ],
   "source": [
    "with open('wro_tweets.txt', 'rb') as f:\n",
    "    wro_tweets_loaded = pickle.dump(f)\n",
    "with open('kra_tweets.txt', 'rb') as f:\n",
    "    kra_tweets_loaded = pickle.dump(f)\n",
    "with open('waw_tweets.txt', 'rb') as f:\n",
    "    waw_tweets_loaded = pickle.dump(f)"
   ]
  },
  {
   "cell_type": "code",
   "execution_count": 235,
   "metadata": {},
   "outputs": [
    {
     "data": {
      "text/plain": [
       "[(datetime.datetime(2018, 12, 1, 13, 34, 19),\n",
       "  'I just finished running 4.62 km in 34m:37s with elcia using #Endomondo #endorphins https://t.co/jlxetqNjiD',\n",
       "  {'type': 'Point', 'coordinates': [51.13318289, 17.05602095]}),\n",
       " (datetime.datetime(2018, 11, 30, 15, 26, 18),\n",
       "  'I just finished cycling 17.28 km in 1h:02m:55s with #Endomondo #endorphins https://t.co/EVmsDvJq22',\n",
       "  None),\n",
       " (datetime.datetime(2018, 11, 30, 13, 34, 59),\n",
       "  'I just finished cycling 17.83 km in 49m:05s with #Endomondo #endorphins https://t.co/jnDCWGvvsF',\n",
       "  {'type': 'Point', 'coordinates': [51.14037758, 17.06803808]}),\n",
       " (datetime.datetime(2018, 11, 30, 6, 0, 38),\n",
       "  'I just finished cycling 14.48 km in 41m:19s with #Endomondo #endorphins https://t.co/RN6ieIhTEF',\n",
       "  {'type': 'Point', 'coordinates': [51.10817506, 16.90879256]}),\n",
       " (datetime.datetime(2018, 11, 29, 15, 51, 3),\n",
       "  'I just finished cycling 13.64 km in 41m:19s with #Endomondo #endorphins https://t.co/fWuguJDycP',\n",
       "  {'type': 'Point', 'coordinates': [51.14040499, 17.06800858]}),\n",
       " (datetime.datetime(2018, 11, 29, 15, 45, 55),\n",
       "  'I just finished running 5.05 km in 28m:53s with #Endomondo #endorphins https://t.co/Cjwwr69jjK',\n",
       "  {'type': 'Point', 'coordinates': [51.1034602, 17.0393679]}),\n",
       " (datetime.datetime(2018, 11, 29, 13, 26, 21),\n",
       "  'I just finished cycling 7.06 km in 25m:36s with #Endomondo #endorphins https://t.co/fy3FCB5axE',\n",
       "  None),\n",
       " (datetime.datetime(2018, 11, 29, 6, 21, 30),\n",
       "  'I just finished cycling 14.31 km in 39m:47s with #Endomondo #endorphins https://t.co/ZYNUTMEhAZ',\n",
       "  {'type': 'Point', 'coordinates': [51.10852324, 16.90817549]}),\n",
       " (datetime.datetime(2018, 11, 29, 5, 21, 31),\n",
       "  'I just finished cycling 7.15 km in 22m:18s with #Endomondo #endorphins https://t.co/iCw5XaxpeF',\n",
       "  None),\n",
       " (datetime.datetime(2018, 11, 28, 19, 7, 34),\n",
       "  'I just finished cycling 6.78 km in 22m:29s with #Endomondo #endorphins https://t.co/1yF6yOR9pN',\n",
       "  None),\n",
       " (datetime.datetime(2018, 11, 28, 15, 44, 48),\n",
       "  'I just finished cycling 13.43 km in 37m:38s with #Endomondo #endorphins https://t.co/NFrVksPmRO',\n",
       "  {'type': 'Point', 'coordinates': [51.14034698, 17.0680095]}),\n",
       " (datetime.datetime(2018, 11, 28, 10, 27, 20),\n",
       "  'I just finished cycling 7.08 km in 24m:04s with #Endomondo #endorphins https://t.co/YbytKMkVjq',\n",
       "  None),\n",
       " (datetime.datetime(2018, 11, 28, 7, 9, 33),\n",
       "  'I just finished cycling 5.01 km in 24m:09s with #Endomondo #endorphins https://t.co/kWyhjlSpZ6',\n",
       "  {'type': 'Point', 'coordinates': [51.15175559, 16.8825956]}),\n",
       " (datetime.datetime(2018, 11, 28, 6, 11, 47),\n",
       "  'I just finished cycling 14.47 km in 39m:24s with #Endomondo #endorphins https://t.co/TFyzuajiWw',\n",
       "  {'type': 'Point', 'coordinates': [51.10834127, 16.90844187]}),\n",
       " (datetime.datetime(2018, 11, 27, 17, 2, 25),\n",
       "  'I just finished cycling 4.62 km in 18m:54s with #Endomondo #endorphins https://t.co/goDFFi75pj',\n",
       "  None),\n",
       " (datetime.datetime(2018, 11, 27, 15, 35, 6),\n",
       "  'I just finished cycling 4.82 km in 19m:31s with #Endomondo #endorphins https://t.co/MEREPw5aGa',\n",
       "  None),\n",
       " (datetime.datetime(2018, 11, 27, 14, 18, 19),\n",
       "  'I just finished cycling 7.22 km in 27m:46s with #Endomondo #endorphins https://t.co/qYIN7RoCar',\n",
       "  None),\n",
       " (datetime.datetime(2018, 11, 27, 6, 22, 15),\n",
       "  'RT @tomasz_pioro: I just finished cycling 7.13 km in 24m:50s with #Endomondo #endorphins https://t.co/MFGMTJAFic',\n",
       "  None),\n",
       " (datetime.datetime(2018, 11, 27, 6, 21, 17),\n",
       "  'I just finished cycling 7.13 km in 24m:50s with #Endomondo #endorphins https://t.co/MFGMTJAFic',\n",
       "  None),\n",
       " (datetime.datetime(2018, 11, 26, 17, 57, 13),\n",
       "  'I just finished cycling 11.88 km in 45m:05s with #Endomondo #endorphins https://t.co/7XSxAe5lms',\n",
       "  None),\n",
       " (datetime.datetime(2018, 11, 26, 16, 50, 15),\n",
       "  '54:54. I just finished running 10.29 km in 54m:54s with #Endomondo #endorphins https://t.co/9jqaTfH3QB',\n",
       "  {'type': 'Point', 'coordinates': [51.1105186, 16.9722395]}),\n",
       " (datetime.datetime(2018, 11, 26, 16, 48, 27),\n",
       "  'I just finished cycling 13.47 km in 38m:19s with #Endomondo #endorphins https://t.co/tYxvaFJmEB',\n",
       "  {'type': 'Point', 'coordinates': [51.14037221, 17.06804411]}),\n",
       " (datetime.datetime(2018, 11, 26, 5, 56, 30),\n",
       "  'I just finished cycling 15.39 km in 39m:10s with #Endomondo #endorphins https://t.co/8RdP5dRcq2',\n",
       "  {'type': 'Point', 'coordinates': [51.10834178, 16.9084614]}),\n",
       " (datetime.datetime(2018, 11, 26, 5, 40, 6),\n",
       "  'I just finished cycling 7.12 km in 25m:10s with #Endomondo #endorphins https://t.co/s2rywAC9jk',\n",
       "  None),\n",
       " (datetime.datetime(2018, 11, 25, 17, 50, 48),\n",
       "  'I just finished cycling 32.00 km in 1h:49m:52s with #Endomondo #endorphins https://t.co/fpdv1fCzop',\n",
       "  None),\n",
       " (datetime.datetime(2018, 11, 25, 9, 55, 4),\n",
       "  'I znowu od 0. I just finished running 4.05 km in 29m:54s with elcia using #Endomondo #endorphins https://t.co/NPmyRgUBul',\n",
       "  {'type': 'Point', 'coordinates': [51.14035595, 17.06775997]}),\n",
       " (datetime.datetime(2018, 11, 24, 19, 53, 1),\n",
       "  'I just finished cycling 6.07 km in 19m:26s with #Endomondo #endorphins https://t.co/dC8GMjgBRH',\n",
       "  None),\n",
       " (datetime.datetime(2018, 11, 24, 13, 3, 48),\n",
       "  'I just finished cycling 34.42 km in 1h:41m:13s with elcia using #Endomondo #endorphins https://t.co/3k4BmXt8AC',\n",
       "  {'type': 'Point', 'coordinates': [51.14041563, 17.06807278]}),\n",
       " (datetime.datetime(2018, 11, 24, 5, 32, 41),\n",
       "  'I just finished cycling 7.11 km in 27m:05s with #Endomondo #endorphins https://t.co/uF0yiN8Evv',\n",
       "  None),\n",
       " (datetime.datetime(2018, 11, 23, 14, 0, 28),\n",
       "  'I just finished cycling 30.31 km in 1h:18m:33s with #Endomondo #endorphins https://t.co/XbjLvobGtR',\n",
       "  {'type': 'Point', 'coordinates': [51.14040054, 17.0680929]}),\n",
       " (datetime.datetime(2018, 11, 23, 8, 45, 16),\n",
       "  'I just finished cycling 18.58 km in 52m:14s with #Endomondo #endorphins https://t.co/yAkODAE1U9',\n",
       "  {'type': 'Point', 'coordinates': [51.10832585, 16.90844765]}),\n",
       " (datetime.datetime(2018, 11, 22, 19, 10, 43),\n",
       "  'It’s not cold, I’m not cold, nooo ❄️ #zerodegrees. I just finished running 10.01 km in 56m:26s with #Endomondo https://t.co/Ln9ADr7sXm',\n",
       "  {'type': 'Point', 'coordinates': [51.1039077, 17.0098738]}),\n",
       " (datetime.datetime(2018, 11, 22, 18, 27, 10),\n",
       "  'I just finished running 4.66 km in 24m:36s with #Endomondo #endorphins https://t.co/3gNF3jmtu9',\n",
       "  {'type': 'Point', 'coordinates': [51.12086767, 17.049736]}),\n",
       " (datetime.datetime(2018, 11, 22, 18, 21, 51),\n",
       "  'I just finished cycling 9.94 km in 1h:22m:57s with #Endomondo #endorphins https://t.co/nZD5OFh76w',\n",
       "  {'type': 'Point', 'coordinates': [51.13597029, 16.92792082]}),\n",
       " (datetime.datetime(2018, 11, 22, 10, 2, 13),\n",
       "  'I just finished cycling 13.35 km in 40m:26s with #Endomondo #endorphins https://t.co/EScqBSS6TB',\n",
       "  {'type': 'Point', 'coordinates': [51.14036643, 17.06803054]}),\n",
       " (datetime.datetime(2018, 11, 22, 9, 0, 16),\n",
       "  'I was out cycling 7.76 km with #Endomondo #endorphins https://t.co/3QRb75dkH7',\n",
       "  {'type': 'Point', 'coordinates': [51.109858, 17.027187]}),\n",
       " (datetime.datetime(2018, 11, 21, 6, 5, 7),\n",
       "  'I just finished cycling 18.39 km in 46m:01s with #Endomondo #endorphins https://t.co/DXfVLHioeA',\n",
       "  {'type': 'Point', 'coordinates': [51.1083468, 16.90848067]})]"
      ]
     },
     "execution_count": 235,
     "metadata": {},
     "output_type": "execute_result"
    }
   ],
   "source": [
    "wro_activities = []\n",
    "for tweet in wro_tweets:\n",
    "    wro_activities.append((tweet.created_at , tweet.text, tweet.geo))\n",
    "wro_activities"
   ]
  },
  {
   "cell_type": "code",
   "execution_count": 80,
   "metadata": {},
   "outputs": [],
   "source": [
    "test = [status for status in tweepy.Cursor(api.search, q = 'endomondo').items(10)]"
   ]
  },
  {
   "cell_type": "code",
   "execution_count": 81,
   "metadata": {},
   "outputs": [
    {
     "data": {
      "text/plain": [
       "1000"
      ]
     },
     "execution_count": 81,
     "metadata": {},
     "output_type": "execute_result"
    }
   ],
   "source": [
    "len(test)"
   ]
  },
  {
   "cell_type": "code",
   "execution_count": 82,
   "metadata": {},
   "outputs": [],
   "source": [
    "tweets = tweepy.Cursor(api.search, q = 'endomondo')"
   ]
  },
  {
   "cell_type": "code",
   "execution_count": 142,
   "metadata": {},
   "outputs": [],
   "source": [
    "activities = []\n",
    "for tweet in test:\n",
    "    #print((tweet._json)['place']['country'])\n",
    "    if tweet.geo != None:\n",
    "         activities.append((tweet.text, tweet.geo))"
   ]
  },
  {
   "cell_type": "code",
   "execution_count": 149,
   "metadata": {},
   "outputs": [],
   "source": [
    "with open('test_tweets.txt', 'wb') as f:\n",
    "    pickle.dump(activities, f)"
   ]
  },
  {
   "cell_type": "code",
   "execution_count": 6,
   "metadata": {},
   "outputs": [],
   "source": [
    "with open('test_tweets.txt', 'rb') as f:\n",
    "    new = pickle.load(f)\n"
   ]
  },
  {
   "cell_type": "code",
   "execution_count": 41,
   "metadata": {},
   "outputs": [],
   "source": [
    "colors = {\n",
    "    'running' : 'red',\n",
    "    'cycling' : 'blue'\n",
    "}"
   ]
  },
  {
   "cell_type": "code",
   "execution_count": 36,
   "metadata": {},
   "outputs": [
    {
     "data": {
      "text/plain": [
       "[('running', [51.13318289, 17.05602095]),\n",
       " ('cycling', [51.14037758, 17.06803808]),\n",
       " ('cycling', [51.10817506, 16.90879256]),\n",
       " ('cycling', [51.14040499, 17.06800858]),\n",
       " ('running', [51.1034602, 17.0393679]),\n",
       " ('cycling', [51.10852324, 16.90817549]),\n",
       " ('cycling', [51.14034698, 17.0680095]),\n",
       " ('cycling', [51.15175559, 16.8825956]),\n",
       " ('cycling', [51.10834127, 16.90844187]),\n",
       " ('running', [51.1105186, 16.9722395]),\n",
       " ('cycling', [51.14037221, 17.06804411]),\n",
       " ('cycling', [51.10834178, 16.9084614]),\n",
       " ('running', [51.14035595, 17.06775997]),\n",
       " ('cycling', [51.14041563, 17.06807278]),\n",
       " ('cycling', [51.14040054, 17.0680929]),\n",
       " ('cycling', [51.10832585, 16.90844765]),\n",
       " ('running', [51.1039077, 17.0098738]),\n",
       " ('running', [51.12086767, 17.049736]),\n",
       " ('cycling', [51.13597029, 16.92792082]),\n",
       " ('cycling', [51.14036643, 17.06803054]),\n",
       " ('cycling', [51.109858, 17.027187]),\n",
       " ('cycling', [51.1083468, 16.90848067])]"
      ]
     },
     "execution_count": 36,
     "metadata": {},
     "output_type": "execute_result"
    }
   ],
   "source": [
    "what_I_want =  []\n",
    "for tweet in new:\n",
    "    if tweet.geo:\n",
    "        sentence = tweet.text.split(' ')\n",
    "        if 'finished' in sentence:\n",
    "            what_I_want.append((sentence[sentence.index('finished') + 1], tweet.geo['coordinates']))\n",
    "        else:\n",
    "            what_I_want.append((sentence[sentence.index('out') + 1], tweet.geo['coordinates']))\n",
    "what_I_want"
   ]
  },
  {
   "cell_type": "code",
   "execution_count": 49,
   "metadata": {},
   "outputs": [
    {
     "data": {
      "text/html": [
       "<div style=\"width:100%;\"><div style=\"position:relative;width:100%;height:0;padding-bottom:60%;\"><iframe src=\"data:text/html;charset=utf-8;base64,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\" style=\"position:absolute;width:100%;height:100%;left:0;top:0;border:none !important;\" allowfullscreen webkitallowfullscreen mozallowfullscreen></iframe></div></div>"
      ],
      "text/plain": [
       "<folium.folium.Map at 0x21e59216d30>"
      ]
     },
     "execution_count": 49,
     "metadata": {},
     "output_type": "execute_result"
    }
   ],
   "source": [
    "m = folium.Map(\n",
    "    location=[geolocator.geocode('Wrocław').latitude, geolocator.geocode('Wrocław').longitude],\n",
    "    zoom_start=12,\n",
    "    tiles='Stamen Terrain'\n",
    ")\n",
    "\n",
    "marker_cluster = MarkerCluster().add_to(m)\n",
    "\n",
    "for activity in what_I_want:    \n",
    "    folium.Marker(\n",
    "        location=activity[1],\n",
    "        popup=activity[0],\n",
    "        icon=folium.Icon(color = colors[activity[0]]),\n",
    "    ).add_to(marker_cluster)\n",
    "\n",
    "\n",
    "m"
   ]
  },
  {
   "cell_type": "code",
   "execution_count": 136,
   "metadata": {
    "collapsed": true
   },
   "outputs": [
    {
     "data": {
      "text/plain": [
       "{'created_at': 'Sat Dec 01 20:09:28 +0000 2018',\n",
       " 'id': 1068960293320093697,\n",
       " 'id_str': '1068960293320093697',\n",
       " 'text': 'I was out walking 2.53 km with #Endomondo #endorphins https://t.co/lPcWsDMtEf',\n",
       " 'truncated': False,\n",
       " 'entities': {'hashtags': [{'text': 'Endomondo', 'indices': [31, 41]},\n",
       "   {'text': 'endorphins', 'indices': [42, 53]}],\n",
       "  'symbols': [],\n",
       "  'user_mentions': [],\n",
       "  'urls': [{'url': 'https://t.co/lPcWsDMtEf',\n",
       "    'expanded_url': 'https://goo.gl/oMEhnD',\n",
       "    'display_url': 'goo.gl/oMEhnD',\n",
       "    'indices': [54, 77]}]},\n",
       " 'metadata': {'iso_language_code': 'en', 'result_type': 'recent'},\n",
       " 'source': '<a href=\"https://www.endomondo.com\" rel=\"nofollow\">Endomondo</a>',\n",
       " 'in_reply_to_status_id': None,\n",
       " 'in_reply_to_status_id_str': None,\n",
       " 'in_reply_to_user_id': None,\n",
       " 'in_reply_to_user_id_str': None,\n",
       " 'in_reply_to_screen_name': None,\n",
       " 'user': {'id': 356110640,\n",
       "  'id_str': '356110640',\n",
       "  'name': 'Ireneusz Harazim',\n",
       "  'screen_name': 'IreneuszHarazim',\n",
       "  'location': 'Poland',\n",
       "  'description': '',\n",
       "  'url': None,\n",
       "  'entities': {'description': {'urls': []}},\n",
       "  'protected': False,\n",
       "  'followers_count': 30,\n",
       "  'friends_count': 104,\n",
       "  'listed_count': 10,\n",
       "  'created_at': 'Tue Aug 16 10:49:53 +0000 2011',\n",
       "  'favourites_count': 2855,\n",
       "  'utc_offset': None,\n",
       "  'time_zone': None,\n",
       "  'geo_enabled': True,\n",
       "  'verified': False,\n",
       "  'statuses_count': 4408,\n",
       "  'lang': 'pl',\n",
       "  'contributors_enabled': False,\n",
       "  'is_translator': False,\n",
       "  'is_translation_enabled': False,\n",
       "  'profile_background_color': 'C0DEED',\n",
       "  'profile_background_image_url': 'http://abs.twimg.com/images/themes/theme1/bg.png',\n",
       "  'profile_background_image_url_https': 'https://abs.twimg.com/images/themes/theme1/bg.png',\n",
       "  'profile_background_tile': False,\n",
       "  'profile_image_url': 'http://pbs.twimg.com/profile_images/541176341635145728/L3eoXDTw_normal.jpeg',\n",
       "  'profile_image_url_https': 'https://pbs.twimg.com/profile_images/541176341635145728/L3eoXDTw_normal.jpeg',\n",
       "  'profile_banner_url': 'https://pbs.twimg.com/profile_banners/356110640/1417861581',\n",
       "  'profile_link_color': '1DA1F2',\n",
       "  'profile_sidebar_border_color': 'C0DEED',\n",
       "  'profile_sidebar_fill_color': 'DDEEF6',\n",
       "  'profile_text_color': '333333',\n",
       "  'profile_use_background_image': True,\n",
       "  'has_extended_profile': False,\n",
       "  'default_profile': True,\n",
       "  'default_profile_image': False,\n",
       "  'following': False,\n",
       "  'follow_request_sent': False,\n",
       "  'notifications': False,\n",
       "  'translator_type': 'none'},\n",
       " 'geo': {'type': 'Point', 'coordinates': [50.441887, 18.815858]},\n",
       " 'coordinates': {'type': 'Point', 'coordinates': [18.815858, 50.441887]},\n",
       " 'place': {'id': '97a59f5b2a1e8498',\n",
       "  'url': 'https://api.twitter.com/1.1/geo/id/97a59f5b2a1e8498.json',\n",
       "  'place_type': 'city',\n",
       "  'name': 'Tarnowskie Góry',\n",
       "  'full_name': 'Tarnowskie Góry, Polska',\n",
       "  'country_code': 'PL',\n",
       "  'country': 'Poland',\n",
       "  'contained_within': [],\n",
       "  'bounding_box': {'type': 'Polygon',\n",
       "   'coordinates': [[[18.770287, 50.3990119],\n",
       "     [18.9148082, 50.3990119],\n",
       "     [18.9148082, 50.5311642],\n",
       "     [18.770287, 50.5311642]]]},\n",
       "  'attributes': {}},\n",
       " 'contributors': None,\n",
       " 'is_quote_status': False,\n",
       " 'retweet_count': 0,\n",
       " 'favorite_count': 0,\n",
       " 'favorited': False,\n",
       " 'retweeted': False,\n",
       " 'possibly_sensitive': False,\n",
       " 'lang': 'en'}"
      ]
     },
     "execution_count": 136,
     "metadata": {},
     "output_type": "execute_result"
    }
   ],
   "source": [
    "(test[0]._json)"
   ]
  },
  {
   "cell_type": "code",
   "execution_count": null,
   "metadata": {},
   "outputs": [],
   "source": [
    "city = ['Wro', 'Crac'] -> 'lat', 'long'  #this in string\n",
    "# add +15km"
   ]
  },
  {
   "cell_type": "code",
   "execution_count": 61,
   "metadata": {},
   "outputs": [
    {
     "data": {
      "text/plain": [
       "<tweepy.cursor.Cursor at 0x27e32dc9438>"
      ]
     },
     "execution_count": 61,
     "metadata": {},
     "output_type": "execute_result"
    }
   ],
   "source": [
    "tweepy.Cursor(api.search, q = 'endomondo')#, geocode = 'string with coordinates')"
   ]
  }
 ],
 "metadata": {
  "kernelspec": {
   "display_name": "Python 3",
   "language": "python",
   "name": "python3"
  },
  "language_info": {
   "codemirror_mode": {
    "name": "ipython",
    "version": 3
   },
   "file_extension": ".py",
   "mimetype": "text/x-python",
   "name": "python",
   "nbconvert_exporter": "python",
   "pygments_lexer": "ipython3",
   "version": "3.7.0"
  }
 },
 "nbformat": 4,
 "nbformat_minor": 2
}
