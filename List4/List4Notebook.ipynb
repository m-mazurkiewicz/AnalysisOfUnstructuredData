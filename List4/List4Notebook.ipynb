{
 "cells": [
  {
   "cell_type": "code",
   "execution_count": null,
   "metadata": {},
   "outputs": [],
   "source": [
    "#selenium\n",
    "#py2exe\n",
    "#pyinstaller\n",
    "#The elements of statistical learning\n",
    "#Introduction to statistical learning\n",
    "#"
   ]
  },
  {
   "cell_type": "code",
   "execution_count": 1,
   "metadata": {},
   "outputs": [],
   "source": [
    "from tweepy import OAuthHandler \n",
    "import tweepy \n",
    "import json\n",
    "import pickle\n",
    "from geopy.geocoders import Nominatim\n",
    "geolocator = Nominatim(user_agent=\"my-application\")\n",
    "import folium\n",
    "from folium.plugins import MarkerCluster"
   ]
  },
  {
   "cell_type": "code",
   "execution_count": 2,
   "metadata": {},
   "outputs": [],
   "source": [
    "logins = []\n",
    "with open('access_codes.txt', 'r') as file:\n",
    "    for line in file.read().splitlines():\n",
    "        logins.append(line.rstrip().split('=')[1])\n",
    "username, consumer_key, consumer_secret, access_token, access_token_secret = logins"
   ]
  },
  {
   "cell_type": "code",
   "execution_count": 3,
   "metadata": {},
   "outputs": [],
   "source": [
    "auth = OAuthHandler(consumer_key, consumer_secret)\n",
    "auth.set_access_token(access_token, access_token_secret)\n",
    "api = tweepy.API(auth)"
   ]
  },
  {
   "cell_type": "code",
   "execution_count": 4,
   "metadata": {},
   "outputs": [],
   "source": [
    "cities = dict()\n",
    "cities['Krakow'] = (str(geolocator.geocode('Kraków').latitude) + ',' + str(geolocator.geocode('Kraków').longitude))\n",
    "cities['Wroclaw'] = (str(geolocator.geocode('Wrocław').latitude) + ','  + str(geolocator.geocode('Wrocław').longitude))\n",
    "cities['Warszawa'] = (str(geolocator.geocode('Warszawa').latitude) + ','  + str(geolocator.geocode('Warszawa').longitude))"
   ]
  },
  {
   "cell_type": "code",
   "execution_count": 224,
   "metadata": {},
   "outputs": [],
   "source": [
    "wro_tweets = [status for status in  tweepy.Cursor(api.search, q = 'endomondo', geocode = (cities['Wroclaw'] + ',15km')).items()]\n",
    "kra_tweets = [status for status in  tweepy.Cursor(api.search, q = 'endomondo', geocode = (cities['Krakow'] + ',15km')).items()]\n",
    "waw_tweets = [status for status in  tweepy.Cursor(api.search, q = 'endomondo', geocode = (cities['Warszawa'] + ',15km')).items()]"
   ]
  },
  {
   "cell_type": "code",
   "execution_count": 225,
   "metadata": {},
   "outputs": [],
   "source": [
    "with open('wro_tweets.txt', 'wb') as f:\n",
    "    pickle.dump(wro_tweets, f)\n",
    "with open('kra_tweets.txt', 'wb') as f:\n",
    "    pickle.dump(kra_tweets, f)\n",
    "with open('waw_tweets.txt', 'wb') as f:\n",
    "    pickle.dump(waw_tweets, f)"
   ]
  },
  {
   "cell_type": "code",
   "execution_count": 27,
   "metadata": {},
   "outputs": [],
   "source": [
    "with open('wro_tweets.txt', 'rb') as f:\n",
    "    wro_tweets_loaded = pickle.load(f)\n",
    "with open('kra_tweets.txt', 'rb') as f:\n",
    "    kra_tweets_loaded = pickle.load(f)\n",
    "with open('waw_tweets.txt', 'rb') as f:\n",
    "    waw_tweets_loaded = pickle.load(f)\n",
    "all_cities = [wro_tweets_loaded, kra_tweets_loaded, waw_tweets_loaded]"
   ]
  },
  {
   "cell_type": "code",
   "execution_count": 9,
   "metadata": {},
   "outputs": [
    {
     "data": {
      "text/plain": [
       "[(datetime.datetime(2018, 12, 1, 13, 34, 19),\n",
       "  'I just finished running 4.62 km in 34m:37s with elcia using #Endomondo #endorphins https://t.co/jlxetqNjiD',\n",
       "  {'type': 'Point', 'coordinates': [51.13318289, 17.05602095]}),\n",
       " (datetime.datetime(2018, 11, 30, 15, 26, 18),\n",
       "  'I just finished cycling 17.28 km in 1h:02m:55s with #Endomondo #endorphins https://t.co/EVmsDvJq22',\n",
       "  None),\n",
       " (datetime.datetime(2018, 11, 30, 13, 34, 59),\n",
       "  'I just finished cycling 17.83 km in 49m:05s with #Endomondo #endorphins https://t.co/jnDCWGvvsF',\n",
       "  {'type': 'Point', 'coordinates': [51.14037758, 17.06803808]}),\n",
       " (datetime.datetime(2018, 11, 30, 6, 0, 38),\n",
       "  'I just finished cycling 14.48 km in 41m:19s with #Endomondo #endorphins https://t.co/RN6ieIhTEF',\n",
       "  {'type': 'Point', 'coordinates': [51.10817506, 16.90879256]}),\n",
       " (datetime.datetime(2018, 11, 29, 15, 51, 3),\n",
       "  'I just finished cycling 13.64 km in 41m:19s with #Endomondo #endorphins https://t.co/fWuguJDycP',\n",
       "  {'type': 'Point', 'coordinates': [51.14040499, 17.06800858]}),\n",
       " (datetime.datetime(2018, 11, 29, 15, 45, 55),\n",
       "  'I just finished running 5.05 km in 28m:53s with #Endomondo #endorphins https://t.co/Cjwwr69jjK',\n",
       "  {'type': 'Point', 'coordinates': [51.1034602, 17.0393679]}),\n",
       " (datetime.datetime(2018, 11, 29, 13, 26, 21),\n",
       "  'I just finished cycling 7.06 km in 25m:36s with #Endomondo #endorphins https://t.co/fy3FCB5axE',\n",
       "  None),\n",
       " (datetime.datetime(2018, 11, 29, 6, 21, 30),\n",
       "  'I just finished cycling 14.31 km in 39m:47s with #Endomondo #endorphins https://t.co/ZYNUTMEhAZ',\n",
       "  {'type': 'Point', 'coordinates': [51.10852324, 16.90817549]}),\n",
       " (datetime.datetime(2018, 11, 29, 5, 21, 31),\n",
       "  'I just finished cycling 7.15 km in 22m:18s with #Endomondo #endorphins https://t.co/iCw5XaxpeF',\n",
       "  None),\n",
       " (datetime.datetime(2018, 11, 28, 19, 7, 34),\n",
       "  'I just finished cycling 6.78 km in 22m:29s with #Endomondo #endorphins https://t.co/1yF6yOR9pN',\n",
       "  None),\n",
       " (datetime.datetime(2018, 11, 28, 15, 44, 48),\n",
       "  'I just finished cycling 13.43 km in 37m:38s with #Endomondo #endorphins https://t.co/NFrVksPmRO',\n",
       "  {'type': 'Point', 'coordinates': [51.14034698, 17.0680095]}),\n",
       " (datetime.datetime(2018, 11, 28, 10, 27, 20),\n",
       "  'I just finished cycling 7.08 km in 24m:04s with #Endomondo #endorphins https://t.co/YbytKMkVjq',\n",
       "  None),\n",
       " (datetime.datetime(2018, 11, 28, 7, 9, 33),\n",
       "  'I just finished cycling 5.01 km in 24m:09s with #Endomondo #endorphins https://t.co/kWyhjlSpZ6',\n",
       "  {'type': 'Point', 'coordinates': [51.15175559, 16.8825956]}),\n",
       " (datetime.datetime(2018, 11, 28, 6, 11, 47),\n",
       "  'I just finished cycling 14.47 km in 39m:24s with #Endomondo #endorphins https://t.co/TFyzuajiWw',\n",
       "  {'type': 'Point', 'coordinates': [51.10834127, 16.90844187]}),\n",
       " (datetime.datetime(2018, 11, 27, 17, 2, 25),\n",
       "  'I just finished cycling 4.62 km in 18m:54s with #Endomondo #endorphins https://t.co/goDFFi75pj',\n",
       "  None),\n",
       " (datetime.datetime(2018, 11, 27, 15, 35, 6),\n",
       "  'I just finished cycling 4.82 km in 19m:31s with #Endomondo #endorphins https://t.co/MEREPw5aGa',\n",
       "  None),\n",
       " (datetime.datetime(2018, 11, 27, 14, 18, 19),\n",
       "  'I just finished cycling 7.22 km in 27m:46s with #Endomondo #endorphins https://t.co/qYIN7RoCar',\n",
       "  None),\n",
       " (datetime.datetime(2018, 11, 27, 6, 22, 15),\n",
       "  'RT @tomasz_pioro: I just finished cycling 7.13 km in 24m:50s with #Endomondo #endorphins https://t.co/MFGMTJAFic',\n",
       "  None),\n",
       " (datetime.datetime(2018, 11, 27, 6, 21, 17),\n",
       "  'I just finished cycling 7.13 km in 24m:50s with #Endomondo #endorphins https://t.co/MFGMTJAFic',\n",
       "  None),\n",
       " (datetime.datetime(2018, 11, 26, 17, 57, 13),\n",
       "  'I just finished cycling 11.88 km in 45m:05s with #Endomondo #endorphins https://t.co/7XSxAe5lms',\n",
       "  None),\n",
       " (datetime.datetime(2018, 11, 26, 16, 50, 15),\n",
       "  '54:54. I just finished running 10.29 km in 54m:54s with #Endomondo #endorphins https://t.co/9jqaTfH3QB',\n",
       "  {'type': 'Point', 'coordinates': [51.1105186, 16.9722395]}),\n",
       " (datetime.datetime(2018, 11, 26, 16, 48, 27),\n",
       "  'I just finished cycling 13.47 km in 38m:19s with #Endomondo #endorphins https://t.co/tYxvaFJmEB',\n",
       "  {'type': 'Point', 'coordinates': [51.14037221, 17.06804411]}),\n",
       " (datetime.datetime(2018, 11, 26, 5, 56, 30),\n",
       "  'I just finished cycling 15.39 km in 39m:10s with #Endomondo #endorphins https://t.co/8RdP5dRcq2',\n",
       "  {'type': 'Point', 'coordinates': [51.10834178, 16.9084614]}),\n",
       " (datetime.datetime(2018, 11, 26, 5, 40, 6),\n",
       "  'I just finished cycling 7.12 km in 25m:10s with #Endomondo #endorphins https://t.co/s2rywAC9jk',\n",
       "  None),\n",
       " (datetime.datetime(2018, 11, 25, 17, 50, 48),\n",
       "  'I just finished cycling 32.00 km in 1h:49m:52s with #Endomondo #endorphins https://t.co/fpdv1fCzop',\n",
       "  None),\n",
       " (datetime.datetime(2018, 11, 25, 9, 55, 4),\n",
       "  'I znowu od 0. I just finished running 4.05 km in 29m:54s with elcia using #Endomondo #endorphins https://t.co/NPmyRgUBul',\n",
       "  {'type': 'Point', 'coordinates': [51.14035595, 17.06775997]}),\n",
       " (datetime.datetime(2018, 11, 24, 19, 53, 1),\n",
       "  'I just finished cycling 6.07 km in 19m:26s with #Endomondo #endorphins https://t.co/dC8GMjgBRH',\n",
       "  None),\n",
       " (datetime.datetime(2018, 11, 24, 13, 3, 48),\n",
       "  'I just finished cycling 34.42 km in 1h:41m:13s with elcia using #Endomondo #endorphins https://t.co/3k4BmXt8AC',\n",
       "  {'type': 'Point', 'coordinates': [51.14041563, 17.06807278]}),\n",
       " (datetime.datetime(2018, 11, 24, 5, 32, 41),\n",
       "  'I just finished cycling 7.11 km in 27m:05s with #Endomondo #endorphins https://t.co/uF0yiN8Evv',\n",
       "  None),\n",
       " (datetime.datetime(2018, 11, 23, 14, 0, 28),\n",
       "  'I just finished cycling 30.31 km in 1h:18m:33s with #Endomondo #endorphins https://t.co/XbjLvobGtR',\n",
       "  {'type': 'Point', 'coordinates': [51.14040054, 17.0680929]}),\n",
       " (datetime.datetime(2018, 11, 23, 8, 45, 16),\n",
       "  'I just finished cycling 18.58 km in 52m:14s with #Endomondo #endorphins https://t.co/yAkODAE1U9',\n",
       "  {'type': 'Point', 'coordinates': [51.10832585, 16.90844765]}),\n",
       " (datetime.datetime(2018, 11, 22, 19, 10, 43),\n",
       "  'It’s not cold, I’m not cold, nooo ❄️ #zerodegrees. I just finished running 10.01 km in 56m:26s with #Endomondo https://t.co/Ln9ADr7sXm',\n",
       "  {'type': 'Point', 'coordinates': [51.1039077, 17.0098738]}),\n",
       " (datetime.datetime(2018, 11, 22, 18, 27, 10),\n",
       "  'I just finished running 4.66 km in 24m:36s with #Endomondo #endorphins https://t.co/3gNF3jmtu9',\n",
       "  {'type': 'Point', 'coordinates': [51.12086767, 17.049736]}),\n",
       " (datetime.datetime(2018, 11, 22, 18, 21, 51),\n",
       "  'I just finished cycling 9.94 km in 1h:22m:57s with #Endomondo #endorphins https://t.co/nZD5OFh76w',\n",
       "  {'type': 'Point', 'coordinates': [51.13597029, 16.92792082]}),\n",
       " (datetime.datetime(2018, 11, 22, 10, 2, 13),\n",
       "  'I just finished cycling 13.35 km in 40m:26s with #Endomondo #endorphins https://t.co/EScqBSS6TB',\n",
       "  {'type': 'Point', 'coordinates': [51.14036643, 17.06803054]}),\n",
       " (datetime.datetime(2018, 11, 22, 9, 0, 16),\n",
       "  'I was out cycling 7.76 km with #Endomondo #endorphins https://t.co/3QRb75dkH7',\n",
       "  {'type': 'Point', 'coordinates': [51.109858, 17.027187]}),\n",
       " (datetime.datetime(2018, 11, 21, 6, 5, 7),\n",
       "  'I just finished cycling 18.39 km in 46m:01s with #Endomondo #endorphins https://t.co/DXfVLHioeA',\n",
       "  {'type': 'Point', 'coordinates': [51.1083468, 16.90848067]})]"
      ]
     },
     "execution_count": 9,
     "metadata": {},
     "output_type": "execute_result"
    }
   ],
   "source": [
    "wro_activities = []\n",
    "for tweet in wro_tweets_loaded:\n",
    "    wro_activities.append((tweet.created_at , tweet.text, tweet.geo))\n",
    "wro_activities"
   ]
  },
  {
   "cell_type": "code",
   "execution_count": 80,
   "metadata": {},
   "outputs": [],
   "source": [
    "test = [status for status in tweepy.Cursor(api.search, q = 'endomondo').items(10)]"
   ]
  },
  {
   "cell_type": "code",
   "execution_count": 82,
   "metadata": {},
   "outputs": [],
   "source": [
    "tweets = tweepy.Cursor(api.search, q = 'endomondo')"
   ]
  },
  {
   "cell_type": "code",
   "execution_count": 149,
   "metadata": {},
   "outputs": [],
   "source": [
    "with open('test_tweets.txt', 'wb') as f:\n",
    "    pickle.dump(activities, f)"
   ]
  },
  {
   "cell_type": "code",
   "execution_count": 11,
   "metadata": {},
   "outputs": [],
   "source": [
    "with open('test_tweets.txt', 'rb') as f:\n",
    "    new = pickle.load(f)\n"
   ]
  },
  {
   "cell_type": "code",
   "execution_count": 16,
   "metadata": {},
   "outputs": [],
   "source": [
    "colors = {\n",
    "    'running' : 'red',\n",
    "    'cycling' : 'blue',\n",
    "    'walking' : 'green'\n",
    "}"
   ]
  },
  {
   "cell_type": "code",
   "execution_count": 29,
   "metadata": {},
   "outputs": [
    {
     "data": {
      "text/plain": [
       "[('running', [51.13318289, 17.05602095]),\n",
       " ('cycling', [51.14037758, 17.06803808]),\n",
       " ('cycling', [51.10817506, 16.90879256]),\n",
       " ('cycling', [51.14040499, 17.06800858]),\n",
       " ('running', [51.1034602, 17.0393679]),\n",
       " ('cycling', [51.10852324, 16.90817549]),\n",
       " ('cycling', [51.14034698, 17.0680095]),\n",
       " ('cycling', [51.15175559, 16.8825956]),\n",
       " ('cycling', [51.10834127, 16.90844187]),\n",
       " ('running', [51.1105186, 16.9722395]),\n",
       " ('cycling', [51.14037221, 17.06804411]),\n",
       " ('cycling', [51.10834178, 16.9084614]),\n",
       " ('running', [51.14035595, 17.06775997]),\n",
       " ('cycling', [51.14041563, 17.06807278]),\n",
       " ('cycling', [51.14040054, 17.0680929]),\n",
       " ('cycling', [51.10832585, 16.90844765]),\n",
       " ('running', [51.1039077, 17.0098738]),\n",
       " ('running', [51.12086767, 17.049736]),\n",
       " ('cycling', [51.13597029, 16.92792082]),\n",
       " ('cycling', [51.14036643, 17.06803054]),\n",
       " ('cycling', [51.109858, 17.027187]),\n",
       " ('cycling', [51.1083468, 16.90848067]),\n",
       " ('running', [49.99101363, 20.05087042]),\n",
       " ('running', [50.03498652, 20.10177774]),\n",
       " ('running', [52.360818, 21.035537]),\n",
       " ('cycling', [52.176329, 21.049603]),\n",
       " ('running', [52.28253216, 20.98254788]),\n",
       " ('running', [52.29255382, 21.03379685]),\n",
       " ('running', [52.199962, 21.161607]),\n",
       " ('cycling', [52.176283, 21.049451]),\n",
       " ('cycling', [52.176427, 21.049695]),\n",
       " ('walking', [52.248711, 21.0095712]),\n",
       " ('running', [52.23198, 21.007421]),\n",
       " ('running', [52.232102, 21.013352]),\n",
       " ('running', [52.232102, 21.013352]),\n",
       " ('running', [52.21906, 21.04525]),\n",
       " ('running', [52.228575, 21.028617]),\n",
       " ('running', [52.21906, 21.04525]),\n",
       " ('running', [52.20216, 21.049383]),\n",
       " ('running', [52.188811, 21.034706])]"
      ]
     },
     "execution_count": 29,
     "metadata": {},
     "output_type": "execute_result"
    }
   ],
   "source": [
    "all_activities =  []\n",
    "for city in all_cities:\n",
    "    for tweet in city:\n",
    "        if tweet.geo:\n",
    "            sentence = tweet.text.split(' ')\n",
    "            if 'finished' in sentence:\n",
    "                all_activities.append((sentence[sentence.index('finished') + 1], tweet.geo['coordinates']))\n",
    "            else:\n",
    "                all_activities.append((sentence[sentence.index('out') + 1], tweet.geo['coordinates']))\n",
    "all_activities"
   ]
  },
  {
   "cell_type": "code",
   "execution_count": 31,
   "metadata": {},
   "outputs": [
    {
     "data": {
      "text/html": [
       "<div style=\"width:100%;\"><div style=\"position:relative;width:100%;height:0;padding-bottom:60%;\"><iframe src=\"data:text/html;charset=utf-8;base64,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\" style=\"position:absolute;width:100%;height:100%;left:0;top:0;border:none !important;\" allowfullscreen webkitallowfullscreen mozallowfullscreen></iframe></div></div>"
      ],
      "text/plain": [
       "<folium.folium.Map at 0x2760e031358>"
      ]
     },
     "execution_count": 31,
     "metadata": {},
     "output_type": "execute_result"
    }
   ],
   "source": [
    "m = folium.Map(\n",
    "    location=[geolocator.geocode('Bełchatów').latitude, geolocator.geocode('Bełchatów').longitude],\n",
    "    zoom_start=8,\n",
    "    #tiles='Stamen Terrain'\n",
    ")\n",
    "\n",
    "marker_clusters = {\n",
    "    'running' : MarkerCluster().add_to(m),\n",
    "    'cycling' : MarkerCluster().add_to(m),\n",
    "    'walking' : MarkerCluster().add_to(m)\n",
    "}\n",
    "\n",
    "for activity in all_activities:\n",
    "    folium.Marker(\n",
    "        location=activity[1],\n",
    "        popup=activity[0],\n",
    "        icon=folium.Icon(color = colors[activity[0]]),\n",
    "    ).add_to(marker_clusters[activity[0]])\n",
    "\n",
    "m"
   ]
  },
  {
   "cell_type": "code",
   "execution_count": 32,
   "metadata": {},
   "outputs": [
    {
     "ename": "ModuleNotFoundError",
     "evalue": "No module named 'vincent'",
     "traceback": [
      "\u001b[1;31m---------------------------------------------------------------------------\u001b[0m",
      "\u001b[1;31mModuleNotFoundError\u001b[0m                       Traceback (most recent call last)",
      "\u001b[1;32m<ipython-input-32-d9c33153bcad>\u001b[0m in \u001b[0;36m<module>\u001b[1;34m\u001b[0m\n\u001b[0;32m      1\u001b[0m \u001b[1;32mimport\u001b[0m \u001b[0mjson\u001b[0m\u001b[1;33m\u001b[0m\u001b[0m\n\u001b[0;32m      2\u001b[0m \u001b[1;32mimport\u001b[0m \u001b[0mnumpy\u001b[0m \u001b[1;32mas\u001b[0m \u001b[0mnp\u001b[0m\u001b[1;33m\u001b[0m\u001b[0m\n\u001b[1;32m----> 3\u001b[1;33m \u001b[1;32mimport\u001b[0m \u001b[0mvincent\u001b[0m\u001b[1;33m\u001b[0m\u001b[0m\n\u001b[0m\u001b[0;32m      4\u001b[0m \u001b[1;33m\u001b[0m\u001b[0m\n\u001b[0;32m      5\u001b[0m scatter_points = {\n",
      "\u001b[1;31mModuleNotFoundError\u001b[0m: No module named 'vincent'"
     ],
     "output_type": "error"
    }
   ],
   "source": [
    "import json\n",
    "import numpy as np\n",
    "import vincent\n",
    "\n",
    "scatter_points = {\n",
    "    'x': np.random.uniform(size=(100,)),\n",
    "    'y': np.random.uniform(size=(100,)),\n",
    "}\n",
    "\n",
    "# Let's create the vincent chart.\n",
    "scatter_chart = vincent.Scatter(scatter_points,\n",
    "                                iter_idx='x',\n",
    "                                width=600,\n",
    "                                height=300)\n",
    "\n",
    "# Let's convert it to JSON.\n",
    "scatter_json = scatter_chart.to_json()\n",
    "\n",
    "# Let's convert it to dict.\n",
    "scatter_dict = json.loads(scatter_json)"
   ]
  },
  {
   "cell_type": "code",
   "execution_count": null,
   "metadata": {},
   "outputs": [],
   "source": [
    "city = ['Wro', 'Crac'] -> 'lat', 'long'  #this in string\n",
    "# add +15km"
   ]
  },
  {
   "cell_type": "code",
   "execution_count": 61,
   "metadata": {},
   "outputs": [
    {
     "data": {
      "text/plain": [
       "<tweepy.cursor.Cursor at 0x27e32dc9438>"
      ]
     },
     "execution_count": 61,
     "metadata": {},
     "output_type": "execute_result"
    }
   ],
   "source": [
    "tweepy.Cursor(api.search, q = 'endomondo')#, geocode = 'string with coordinates')"
   ]
  }
 ],
 "metadata": {
  "kernelspec": {
   "display_name": "Python 3",
   "language": "python",
   "name": "python3"
  },
  "language_info": {
   "codemirror_mode": {
    "name": "ipython",
    "version": 3
   },
   "file_extension": ".py",
   "mimetype": "text/x-python",
   "name": "python",
   "nbconvert_exporter": "python",
   "pygments_lexer": "ipython3",
   "version": "3.7.0"
  }
 },
 "nbformat": 4,
 "nbformat_minor": 2
}
