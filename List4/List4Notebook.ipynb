{
 "cells": [
  {
   "cell_type": "code",
   "execution_count": null,
   "metadata": {},
   "outputs": [],
   "source": [
    "#selenium\n",
    "#py2exe\n",
    "#pyinstaller\n",
    "#The elements of statistical learning\n",
    "#Introduction to statistical learning\n",
    "#"
   ]
  },
  {
   "cell_type": "code",
   "execution_count": 148,
   "metadata": {},
   "outputs": [],
   "source": [
    "from tweepy import OAuthHandler \n",
    "import tweepy \n",
    "import json\n",
    "import pickle"
   ]
  },
  {
   "cell_type": "code",
   "execution_count": 47,
   "metadata": {},
   "outputs": [],
   "source": [
    "logins = []\n",
    "with open('access_codes.txt', 'r') as file:\n",
    "    for line in file.read().splitlines():\n",
    "        logins.append(line.rstrip().split('=')[1])\n",
    "username, consumer_key, consumer_secret, access_token, access_token_secret = logins"
   ]
  },
  {
   "cell_type": "code",
   "execution_count": 48,
   "metadata": {},
   "outputs": [],
   "source": [
    "auth = OAuthHandler(consumer_key, consumer_secret)\n",
    "auth.set_access_token(access_token, access_token_secret)\n",
    "api = tweepy.API(auth)"
   ]
  },
  {
   "cell_type": "code",
   "execution_count": 50,
   "metadata": {},
   "outputs": [],
   "source": [
    "stuff = api.user_timeline(screen_name = 'endomondo', count = 100, include_rts = True)"
   ]
  },
  {
   "cell_type": "code",
   "execution_count": 80,
   "metadata": {},
   "outputs": [],
   "source": [
    "test = [status for status in tweepy.Cursor(api.search, q = 'endomondo').items(10)]"
   ]
  },
  {
   "cell_type": "code",
   "execution_count": 81,
   "metadata": {},
   "outputs": [
    {
     "data": {
      "text/plain": [
       "1000"
      ]
     },
     "execution_count": 81,
     "metadata": {},
     "output_type": "execute_result"
    }
   ],
   "source": [
    "len(test)"
   ]
  },
  {
   "cell_type": "code",
   "execution_count": 82,
   "metadata": {},
   "outputs": [],
   "source": [
    "tweets = tweepy.Cursor(api.search, q = 'endomondo')"
   ]
  },
  {
   "cell_type": "code",
   "execution_count": 142,
   "metadata": {},
   "outputs": [],
   "source": [
    "activities = []\n",
    "for tweet in test:\n",
    "    #print((tweet._json)['place']['country'])\n",
    "    if tweet.geo != None:\n",
    "         activities.append((tweet.text, tweet.geo))"
   ]
  },
  {
   "cell_type": "code",
   "execution_count": 149,
   "metadata": {},
   "outputs": [],
   "source": [
    "with open('test_tweets.txt', 'wb') as f:\n",
    "    pickle.dump(activities, f)"
   ]
  },
  {
   "cell_type": "code",
   "execution_count": 155,
   "metadata": {},
   "outputs": [
    {
     "data": {
      "text/plain": [
       "{'type': 'Point', 'coordinates': [33.555434, -117.759234]}"
      ]
     },
     "execution_count": 155,
     "metadata": {},
     "output_type": "execute_result"
    }
   ],
   "source": [
    "with open('test_tweets.txt', 'rb') as f:\n",
    "    new = pickle.load(f)\n"
   ]
  },
  {
   "cell_type": "code",
   "execution_count": 156,
   "metadata": {},
   "outputs": [
    {
     "data": {
      "text/plain": [
       "{'type': 'Point', 'coordinates': [33.555434, -117.759234]}"
      ]
     },
     "execution_count": 156,
     "metadata": {},
     "output_type": "execute_result"
    }
   ],
   "source": [
    "activities[1][1]"
   ]
  },
  {
   "cell_type": "code",
   "execution_count": 136,
   "metadata": {},
   "outputs": [
    {
     "data": {
      "text/plain": [
       "{'created_at': 'Sat Dec 01 20:09:28 +0000 2018',\n",
       " 'id': 1068960293320093697,\n",
       " 'id_str': '1068960293320093697',\n",
       " 'text': 'I was out walking 2.53 km with #Endomondo #endorphins https://t.co/lPcWsDMtEf',\n",
       " 'truncated': False,\n",
       " 'entities': {'hashtags': [{'text': 'Endomondo', 'indices': [31, 41]},\n",
       "   {'text': 'endorphins', 'indices': [42, 53]}],\n",
       "  'symbols': [],\n",
       "  'user_mentions': [],\n",
       "  'urls': [{'url': 'https://t.co/lPcWsDMtEf',\n",
       "    'expanded_url': 'https://goo.gl/oMEhnD',\n",
       "    'display_url': 'goo.gl/oMEhnD',\n",
       "    'indices': [54, 77]}]},\n",
       " 'metadata': {'iso_language_code': 'en', 'result_type': 'recent'},\n",
       " 'source': '<a href=\"https://www.endomondo.com\" rel=\"nofollow\">Endomondo</a>',\n",
       " 'in_reply_to_status_id': None,\n",
       " 'in_reply_to_status_id_str': None,\n",
       " 'in_reply_to_user_id': None,\n",
       " 'in_reply_to_user_id_str': None,\n",
       " 'in_reply_to_screen_name': None,\n",
       " 'user': {'id': 356110640,\n",
       "  'id_str': '356110640',\n",
       "  'name': 'Ireneusz Harazim',\n",
       "  'screen_name': 'IreneuszHarazim',\n",
       "  'location': 'Poland',\n",
       "  'description': '',\n",
       "  'url': None,\n",
       "  'entities': {'description': {'urls': []}},\n",
       "  'protected': False,\n",
       "  'followers_count': 30,\n",
       "  'friends_count': 104,\n",
       "  'listed_count': 10,\n",
       "  'created_at': 'Tue Aug 16 10:49:53 +0000 2011',\n",
       "  'favourites_count': 2855,\n",
       "  'utc_offset': None,\n",
       "  'time_zone': None,\n",
       "  'geo_enabled': True,\n",
       "  'verified': False,\n",
       "  'statuses_count': 4408,\n",
       "  'lang': 'pl',\n",
       "  'contributors_enabled': False,\n",
       "  'is_translator': False,\n",
       "  'is_translation_enabled': False,\n",
       "  'profile_background_color': 'C0DEED',\n",
       "  'profile_background_image_url': 'http://abs.twimg.com/images/themes/theme1/bg.png',\n",
       "  'profile_background_image_url_https': 'https://abs.twimg.com/images/themes/theme1/bg.png',\n",
       "  'profile_background_tile': False,\n",
       "  'profile_image_url': 'http://pbs.twimg.com/profile_images/541176341635145728/L3eoXDTw_normal.jpeg',\n",
       "  'profile_image_url_https': 'https://pbs.twimg.com/profile_images/541176341635145728/L3eoXDTw_normal.jpeg',\n",
       "  'profile_banner_url': 'https://pbs.twimg.com/profile_banners/356110640/1417861581',\n",
       "  'profile_link_color': '1DA1F2',\n",
       "  'profile_sidebar_border_color': 'C0DEED',\n",
       "  'profile_sidebar_fill_color': 'DDEEF6',\n",
       "  'profile_text_color': '333333',\n",
       "  'profile_use_background_image': True,\n",
       "  'has_extended_profile': False,\n",
       "  'default_profile': True,\n",
       "  'default_profile_image': False,\n",
       "  'following': False,\n",
       "  'follow_request_sent': False,\n",
       "  'notifications': False,\n",
       "  'translator_type': 'none'},\n",
       " 'geo': {'type': 'Point', 'coordinates': [50.441887, 18.815858]},\n",
       " 'coordinates': {'type': 'Point', 'coordinates': [18.815858, 50.441887]},\n",
       " 'place': {'id': '97a59f5b2a1e8498',\n",
       "  'url': 'https://api.twitter.com/1.1/geo/id/97a59f5b2a1e8498.json',\n",
       "  'place_type': 'city',\n",
       "  'name': 'Tarnowskie Góry',\n",
       "  'full_name': 'Tarnowskie Góry, Polska',\n",
       "  'country_code': 'PL',\n",
       "  'country': 'Poland',\n",
       "  'contained_within': [],\n",
       "  'bounding_box': {'type': 'Polygon',\n",
       "   'coordinates': [[[18.770287, 50.3990119],\n",
       "     [18.9148082, 50.3990119],\n",
       "     [18.9148082, 50.5311642],\n",
       "     [18.770287, 50.5311642]]]},\n",
       "  'attributes': {}},\n",
       " 'contributors': None,\n",
       " 'is_quote_status': False,\n",
       " 'retweet_count': 0,\n",
       " 'favorite_count': 0,\n",
       " 'favorited': False,\n",
       " 'retweeted': False,\n",
       " 'possibly_sensitive': False,\n",
       " 'lang': 'en'}"
      ]
     },
     "execution_count": 136,
     "metadata": {},
     "output_type": "execute_result"
    }
   ],
   "source": [
    "(test[0]._json)"
   ]
  },
  {
   "cell_type": "code",
   "execution_count": null,
   "metadata": {},
   "outputs": [],
   "source": [
    "city = ['Wro', 'Crac'] -> 'lat', 'long'  #this in string\n",
    "# add +15km"
   ]
  },
  {
   "cell_type": "code",
   "execution_count": 61,
   "metadata": {},
   "outputs": [
    {
     "data": {
      "text/plain": [
       "<tweepy.cursor.Cursor at 0x27e32dc9438>"
      ]
     },
     "execution_count": 61,
     "metadata": {},
     "output_type": "execute_result"
    }
   ],
   "source": [
    "tweepy.Cursor(api.search, q = 'endomondo')#, geocode = 'string with coordinates')"
   ]
  }
 ],
 "metadata": {
  "kernelspec": {
   "display_name": "Python 3",
   "language": "python",
   "name": "python3"
  },
  "language_info": {
   "codemirror_mode": {
    "name": "ipython",
    "version": 3
   },
   "file_extension": ".py",
   "mimetype": "text/x-python",
   "name": "python",
   "nbconvert_exporter": "python",
   "pygments_lexer": "ipython3",
   "version": "3.7.0"
  }
 },
 "nbformat": 4,
 "nbformat_minor": 2
}
