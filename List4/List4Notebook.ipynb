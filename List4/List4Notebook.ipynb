{
 "cells": [
  {
   "cell_type": "code",
   "execution_count": null,
   "metadata": {},
   "outputs": [],
   "source": [
    "#selenium\n",
    "#py2exe\n",
    "#pyinstaller\n",
    "#The elements of statistical learning\n",
    "#Introduction to statistical learning\n",
    "#"
   ]
  },
  {
   "cell_type": "code",
   "execution_count": 157,
   "metadata": {},
   "outputs": [],
   "source": [
    "from tweepy import OAuthHandler \n",
    "import tweepy \n",
    "import json\n",
    "import pickle\n",
    "from geopy.geocoders import Nominatim\n",
    "geolocator = Nominatim(user_agent=\"my-application\")"
   ]
  },
  {
   "cell_type": "code",
   "execution_count": 47,
   "metadata": {},
   "outputs": [],
   "source": [
    "logins = []\n",
    "with open('access_codes.txt', 'r') as file:\n",
    "    for line in file.read().splitlines():\n",
    "        logins.append(line.rstrip().split('=')[1])\n",
    "username, consumer_key, consumer_secret, access_token, access_token_secret = logins"
   ]
  },
  {
   "cell_type": "code",
   "execution_count": 48,
   "metadata": {},
   "outputs": [],
   "source": [
    "auth = OAuthHandler(consumer_key, consumer_secret)\n",
    "auth.set_access_token(access_token, access_token_secret)\n",
    "api = tweepy.API(auth)"
   ]
  },
  {
   "cell_type": "code",
   "execution_count": 175,
   "metadata": {},
   "outputs": [],
   "source": [
    "cities = dict()\n",
    "cities['Krakow'] = (str(geolocator.geocode('Kraków').latitude) + ',' + str(geolocator.geocode('Kraków').longitude))\n",
    "cities['Wroclaw'] = (str(geolocator.geocode('Wrocław').latitude) + ','  + str(geolocator.geocode('Wrocław').longitude))\n",
    "cities['Warszawa'] = (str(geolocator.geocode('Warszawa').latitude) + ','  + str(geolocator.geocode('Warszawa').longitude))"
   ]
  },
  {
   "cell_type": "code",
   "execution_count": 224,
   "metadata": {},
   "outputs": [],
   "source": [
    "wro_tweets = [status for status in  tweepy.Cursor(api.search, q = 'endomondo', geocode = (cities['Wroclaw'] + ',15km')).items()]\n",
    "kra_tweets = [status for status in  tweepy.Cursor(api.search, q = 'endomondo', geocode = (cities['Krakow'] + ',15km')).items()]\n",
    "waw_tweets = [status for status in  tweepy.Cursor(api.search, q = 'endomondo', geocode = (cities['Warszawa'] + ',15km')).items()]"
   ]
  },
  {
   "cell_type": "code",
   "execution_count": 225,
   "metadata": {},
   "outputs": [],
   "source": [
    "with open('wro_tweets.txt', 'wb') as f:\n",
    "    pickle.dump(wro_tweets, f)\n",
    "with open('kra_tweets.txt', 'wb') as f:\n",
    "    pickle.dump(kra_tweets, f)\n",
    "with open('waw_tweets.txt', 'wb') as f:\n",
    "    pickle.dump(waw_tweets, f)"
   ]
  },
  {
   "cell_type": "code",
   "execution_count": null,
   "metadata": {},
   "outputs": [],
   "source": [
    "with open('wro_tweets.txt', 'rb') as f:\n",
    "    wro_tweets_loaded = pickle.dump(f)\n",
    "with open('kra_tweets.txt', 'rb') as f:\n",
    "    kra_tweets_loaded = pickle.dump(f)\n",
    "with open('waw_tweets.txt', 'rb') as f:\n",
    "    waw_tweets_loaded = pickle.dump(f)"
   ]
  },
  {
   "cell_type": "code",
   "execution_count": 235,
   "metadata": {},
   "outputs": [
    {
     "data": {
      "text/plain": [
       "[(datetime.datetime(2018, 12, 1, 13, 34, 19),\n",
       "  'I just finished running 4.62 km in 34m:37s with elcia using #Endomondo #endorphins https://t.co/jlxetqNjiD',\n",
       "  {'type': 'Point', 'coordinates': [51.13318289, 17.05602095]}),\n",
       " (datetime.datetime(2018, 11, 30, 15, 26, 18),\n",
       "  'I just finished cycling 17.28 km in 1h:02m:55s with #Endomondo #endorphins https://t.co/EVmsDvJq22',\n",
       "  None),\n",
       " (datetime.datetime(2018, 11, 30, 13, 34, 59),\n",
       "  'I just finished cycling 17.83 km in 49m:05s with #Endomondo #endorphins https://t.co/jnDCWGvvsF',\n",
       "  {'type': 'Point', 'coordinates': [51.14037758, 17.06803808]}),\n",
       " (datetime.datetime(2018, 11, 30, 6, 0, 38),\n",
       "  'I just finished cycling 14.48 km in 41m:19s with #Endomondo #endorphins https://t.co/RN6ieIhTEF',\n",
       "  {'type': 'Point', 'coordinates': [51.10817506, 16.90879256]}),\n",
       " (datetime.datetime(2018, 11, 29, 15, 51, 3),\n",
       "  'I just finished cycling 13.64 km in 41m:19s with #Endomondo #endorphins https://t.co/fWuguJDycP',\n",
       "  {'type': 'Point', 'coordinates': [51.14040499, 17.06800858]}),\n",
       " (datetime.datetime(2018, 11, 29, 15, 45, 55),\n",
       "  'I just finished running 5.05 km in 28m:53s with #Endomondo #endorphins https://t.co/Cjwwr69jjK',\n",
       "  {'type': 'Point', 'coordinates': [51.1034602, 17.0393679]}),\n",
       " (datetime.datetime(2018, 11, 29, 13, 26, 21),\n",
       "  'I just finished cycling 7.06 km in 25m:36s with #Endomondo #endorphins https://t.co/fy3FCB5axE',\n",
       "  None),\n",
       " (datetime.datetime(2018, 11, 29, 6, 21, 30),\n",
       "  'I just finished cycling 14.31 km in 39m:47s with #Endomondo #endorphins https://t.co/ZYNUTMEhAZ',\n",
       "  {'type': 'Point', 'coordinates': [51.10852324, 16.90817549]}),\n",
       " (datetime.datetime(2018, 11, 29, 5, 21, 31),\n",
       "  'I just finished cycling 7.15 km in 22m:18s with #Endomondo #endorphins https://t.co/iCw5XaxpeF',\n",
       "  None),\n",
       " (datetime.datetime(2018, 11, 28, 19, 7, 34),\n",
       "  'I just finished cycling 6.78 km in 22m:29s with #Endomondo #endorphins https://t.co/1yF6yOR9pN',\n",
       "  None),\n",
       " (datetime.datetime(2018, 11, 28, 15, 44, 48),\n",
       "  'I just finished cycling 13.43 km in 37m:38s with #Endomondo #endorphins https://t.co/NFrVksPmRO',\n",
       "  {'type': 'Point', 'coordinates': [51.14034698, 17.0680095]}),\n",
       " (datetime.datetime(2018, 11, 28, 10, 27, 20),\n",
       "  'I just finished cycling 7.08 km in 24m:04s with #Endomondo #endorphins https://t.co/YbytKMkVjq',\n",
       "  None),\n",
       " (datetime.datetime(2018, 11, 28, 7, 9, 33),\n",
       "  'I just finished cycling 5.01 km in 24m:09s with #Endomondo #endorphins https://t.co/kWyhjlSpZ6',\n",
       "  {'type': 'Point', 'coordinates': [51.15175559, 16.8825956]}),\n",
       " (datetime.datetime(2018, 11, 28, 6, 11, 47),\n",
       "  'I just finished cycling 14.47 km in 39m:24s with #Endomondo #endorphins https://t.co/TFyzuajiWw',\n",
       "  {'type': 'Point', 'coordinates': [51.10834127, 16.90844187]}),\n",
       " (datetime.datetime(2018, 11, 27, 17, 2, 25),\n",
       "  'I just finished cycling 4.62 km in 18m:54s with #Endomondo #endorphins https://t.co/goDFFi75pj',\n",
       "  None),\n",
       " (datetime.datetime(2018, 11, 27, 15, 35, 6),\n",
       "  'I just finished cycling 4.82 km in 19m:31s with #Endomondo #endorphins https://t.co/MEREPw5aGa',\n",
       "  None),\n",
       " (datetime.datetime(2018, 11, 27, 14, 18, 19),\n",
       "  'I just finished cycling 7.22 km in 27m:46s with #Endomondo #endorphins https://t.co/qYIN7RoCar',\n",
       "  None),\n",
       " (datetime.datetime(2018, 11, 27, 6, 22, 15),\n",
       "  'RT @tomasz_pioro: I just finished cycling 7.13 km in 24m:50s with #Endomondo #endorphins https://t.co/MFGMTJAFic',\n",
       "  None),\n",
       " (datetime.datetime(2018, 11, 27, 6, 21, 17),\n",
       "  'I just finished cycling 7.13 km in 24m:50s with #Endomondo #endorphins https://t.co/MFGMTJAFic',\n",
       "  None),\n",
       " (datetime.datetime(2018, 11, 26, 17, 57, 13),\n",
       "  'I just finished cycling 11.88 km in 45m:05s with #Endomondo #endorphins https://t.co/7XSxAe5lms',\n",
       "  None),\n",
       " (datetime.datetime(2018, 11, 26, 16, 50, 15),\n",
       "  '54:54. I just finished running 10.29 km in 54m:54s with #Endomondo #endorphins https://t.co/9jqaTfH3QB',\n",
       "  {'type': 'Point', 'coordinates': [51.1105186, 16.9722395]}),\n",
       " (datetime.datetime(2018, 11, 26, 16, 48, 27),\n",
       "  'I just finished cycling 13.47 km in 38m:19s with #Endomondo #endorphins https://t.co/tYxvaFJmEB',\n",
       "  {'type': 'Point', 'coordinates': [51.14037221, 17.06804411]}),\n",
       " (datetime.datetime(2018, 11, 26, 5, 56, 30),\n",
       "  'I just finished cycling 15.39 km in 39m:10s with #Endomondo #endorphins https://t.co/8RdP5dRcq2',\n",
       "  {'type': 'Point', 'coordinates': [51.10834178, 16.9084614]}),\n",
       " (datetime.datetime(2018, 11, 26, 5, 40, 6),\n",
       "  'I just finished cycling 7.12 km in 25m:10s with #Endomondo #endorphins https://t.co/s2rywAC9jk',\n",
       "  None),\n",
       " (datetime.datetime(2018, 11, 25, 17, 50, 48),\n",
       "  'I just finished cycling 32.00 km in 1h:49m:52s with #Endomondo #endorphins https://t.co/fpdv1fCzop',\n",
       "  None),\n",
       " (datetime.datetime(2018, 11, 25, 9, 55, 4),\n",
       "  'I znowu od 0. I just finished running 4.05 km in 29m:54s with elcia using #Endomondo #endorphins https://t.co/NPmyRgUBul',\n",
       "  {'type': 'Point', 'coordinates': [51.14035595, 17.06775997]}),\n",
       " (datetime.datetime(2018, 11, 24, 19, 53, 1),\n",
       "  'I just finished cycling 6.07 km in 19m:26s with #Endomondo #endorphins https://t.co/dC8GMjgBRH',\n",
       "  None),\n",
       " (datetime.datetime(2018, 11, 24, 13, 3, 48),\n",
       "  'I just finished cycling 34.42 km in 1h:41m:13s with elcia using #Endomondo #endorphins https://t.co/3k4BmXt8AC',\n",
       "  {'type': 'Point', 'coordinates': [51.14041563, 17.06807278]}),\n",
       " (datetime.datetime(2018, 11, 24, 5, 32, 41),\n",
       "  'I just finished cycling 7.11 km in 27m:05s with #Endomondo #endorphins https://t.co/uF0yiN8Evv',\n",
       "  None),\n",
       " (datetime.datetime(2018, 11, 23, 14, 0, 28),\n",
       "  'I just finished cycling 30.31 km in 1h:18m:33s with #Endomondo #endorphins https://t.co/XbjLvobGtR',\n",
       "  {'type': 'Point', 'coordinates': [51.14040054, 17.0680929]}),\n",
       " (datetime.datetime(2018, 11, 23, 8, 45, 16),\n",
       "  'I just finished cycling 18.58 km in 52m:14s with #Endomondo #endorphins https://t.co/yAkODAE1U9',\n",
       "  {'type': 'Point', 'coordinates': [51.10832585, 16.90844765]}),\n",
       " (datetime.datetime(2018, 11, 22, 19, 10, 43),\n",
       "  'It’s not cold, I’m not cold, nooo ❄️ #zerodegrees. I just finished running 10.01 km in 56m:26s with #Endomondo https://t.co/Ln9ADr7sXm',\n",
       "  {'type': 'Point', 'coordinates': [51.1039077, 17.0098738]}),\n",
       " (datetime.datetime(2018, 11, 22, 18, 27, 10),\n",
       "  'I just finished running 4.66 km in 24m:36s with #Endomondo #endorphins https://t.co/3gNF3jmtu9',\n",
       "  {'type': 'Point', 'coordinates': [51.12086767, 17.049736]}),\n",
       " (datetime.datetime(2018, 11, 22, 18, 21, 51),\n",
       "  'I just finished cycling 9.94 km in 1h:22m:57s with #Endomondo #endorphins https://t.co/nZD5OFh76w',\n",
       "  {'type': 'Point', 'coordinates': [51.13597029, 16.92792082]}),\n",
       " (datetime.datetime(2018, 11, 22, 10, 2, 13),\n",
       "  'I just finished cycling 13.35 km in 40m:26s with #Endomondo #endorphins https://t.co/EScqBSS6TB',\n",
       "  {'type': 'Point', 'coordinates': [51.14036643, 17.06803054]}),\n",
       " (datetime.datetime(2018, 11, 22, 9, 0, 16),\n",
       "  'I was out cycling 7.76 km with #Endomondo #endorphins https://t.co/3QRb75dkH7',\n",
       "  {'type': 'Point', 'coordinates': [51.109858, 17.027187]}),\n",
       " (datetime.datetime(2018, 11, 21, 6, 5, 7),\n",
       "  'I just finished cycling 18.39 km in 46m:01s with #Endomondo #endorphins https://t.co/DXfVLHioeA',\n",
       "  {'type': 'Point', 'coordinates': [51.1083468, 16.90848067]})]"
      ]
     },
     "execution_count": 235,
     "metadata": {},
     "output_type": "execute_result"
    }
   ],
   "source": [
    "wro_activities = []\n",
    "for tweet in wro_tweets:\n",
    "    wro_activities.append((tweet.created_at , tweet.text, tweet.geo))\n",
    "wro_activities"
   ]
  },
  {
   "cell_type": "code",
   "execution_count": 80,
   "metadata": {},
   "outputs": [],
   "source": [
    "test = [status for status in tweepy.Cursor(api.search, q = 'endomondo').items(10)]"
   ]
  },
  {
   "cell_type": "code",
   "execution_count": 81,
   "metadata": {},
   "outputs": [
    {
     "data": {
      "text/plain": [
       "1000"
      ]
     },
     "execution_count": 81,
     "metadata": {},
     "output_type": "execute_result"
    }
   ],
   "source": [
    "len(test)"
   ]
  },
  {
   "cell_type": "code",
   "execution_count": 82,
   "metadata": {},
   "outputs": [],
   "source": [
    "tweets = tweepy.Cursor(api.search, q = 'endomondo')"
   ]
  },
  {
   "cell_type": "code",
   "execution_count": 142,
   "metadata": {},
   "outputs": [],
   "source": [
    "activities = []\n",
    "for tweet in test:\n",
    "    #print((tweet._json)['place']['country'])\n",
    "    if tweet.geo != None:\n",
    "         activities.append((tweet.text, tweet.geo))"
   ]
  },
  {
   "cell_type": "code",
   "execution_count": 149,
   "metadata": {},
   "outputs": [],
   "source": [
    "with open('test_tweets.txt', 'wb') as f:\n",
    "    pickle.dump(activities, f)"
   ]
  },
  {
   "cell_type": "code",
   "execution_count": 155,
   "metadata": {},
   "outputs": [
    {
     "data": {
      "text/plain": [
       "{'type': 'Point', 'coordinates': [33.555434, -117.759234]}"
      ]
     },
     "execution_count": 155,
     "metadata": {},
     "output_type": "execute_result"
    }
   ],
   "source": [
    "with open('test_tweets.txt', 'rb') as f:\n",
    "    new = pickle.load(f)\n"
   ]
  },
  {
   "cell_type": "code",
   "execution_count": 136,
   "metadata": {
    "collapsed": true
   },
   "outputs": [
    {
     "data": {
      "text/plain": [
       "{'created_at': 'Sat Dec 01 20:09:28 +0000 2018',\n",
       " 'id': 1068960293320093697,\n",
       " 'id_str': '1068960293320093697',\n",
       " 'text': 'I was out walking 2.53 km with #Endomondo #endorphins https://t.co/lPcWsDMtEf',\n",
       " 'truncated': False,\n",
       " 'entities': {'hashtags': [{'text': 'Endomondo', 'indices': [31, 41]},\n",
       "   {'text': 'endorphins', 'indices': [42, 53]}],\n",
       "  'symbols': [],\n",
       "  'user_mentions': [],\n",
       "  'urls': [{'url': 'https://t.co/lPcWsDMtEf',\n",
       "    'expanded_url': 'https://goo.gl/oMEhnD',\n",
       "    'display_url': 'goo.gl/oMEhnD',\n",
       "    'indices': [54, 77]}]},\n",
       " 'metadata': {'iso_language_code': 'en', 'result_type': 'recent'},\n",
       " 'source': '<a href=\"https://www.endomondo.com\" rel=\"nofollow\">Endomondo</a>',\n",
       " 'in_reply_to_status_id': None,\n",
       " 'in_reply_to_status_id_str': None,\n",
       " 'in_reply_to_user_id': None,\n",
       " 'in_reply_to_user_id_str': None,\n",
       " 'in_reply_to_screen_name': None,\n",
       " 'user': {'id': 356110640,\n",
       "  'id_str': '356110640',\n",
       "  'name': 'Ireneusz Harazim',\n",
       "  'screen_name': 'IreneuszHarazim',\n",
       "  'location': 'Poland',\n",
       "  'description': '',\n",
       "  'url': None,\n",
       "  'entities': {'description': {'urls': []}},\n",
       "  'protected': False,\n",
       "  'followers_count': 30,\n",
       "  'friends_count': 104,\n",
       "  'listed_count': 10,\n",
       "  'created_at': 'Tue Aug 16 10:49:53 +0000 2011',\n",
       "  'favourites_count': 2855,\n",
       "  'utc_offset': None,\n",
       "  'time_zone': None,\n",
       "  'geo_enabled': True,\n",
       "  'verified': False,\n",
       "  'statuses_count': 4408,\n",
       "  'lang': 'pl',\n",
       "  'contributors_enabled': False,\n",
       "  'is_translator': False,\n",
       "  'is_translation_enabled': False,\n",
       "  'profile_background_color': 'C0DEED',\n",
       "  'profile_background_image_url': 'http://abs.twimg.com/images/themes/theme1/bg.png',\n",
       "  'profile_background_image_url_https': 'https://abs.twimg.com/images/themes/theme1/bg.png',\n",
       "  'profile_background_tile': False,\n",
       "  'profile_image_url': 'http://pbs.twimg.com/profile_images/541176341635145728/L3eoXDTw_normal.jpeg',\n",
       "  'profile_image_url_https': 'https://pbs.twimg.com/profile_images/541176341635145728/L3eoXDTw_normal.jpeg',\n",
       "  'profile_banner_url': 'https://pbs.twimg.com/profile_banners/356110640/1417861581',\n",
       "  'profile_link_color': '1DA1F2',\n",
       "  'profile_sidebar_border_color': 'C0DEED',\n",
       "  'profile_sidebar_fill_color': 'DDEEF6',\n",
       "  'profile_text_color': '333333',\n",
       "  'profile_use_background_image': True,\n",
       "  'has_extended_profile': False,\n",
       "  'default_profile': True,\n",
       "  'default_profile_image': False,\n",
       "  'following': False,\n",
       "  'follow_request_sent': False,\n",
       "  'notifications': False,\n",
       "  'translator_type': 'none'},\n",
       " 'geo': {'type': 'Point', 'coordinates': [50.441887, 18.815858]},\n",
       " 'coordinates': {'type': 'Point', 'coordinates': [18.815858, 50.441887]},\n",
       " 'place': {'id': '97a59f5b2a1e8498',\n",
       "  'url': 'https://api.twitter.com/1.1/geo/id/97a59f5b2a1e8498.json',\n",
       "  'place_type': 'city',\n",
       "  'name': 'Tarnowskie Góry',\n",
       "  'full_name': 'Tarnowskie Góry, Polska',\n",
       "  'country_code': 'PL',\n",
       "  'country': 'Poland',\n",
       "  'contained_within': [],\n",
       "  'bounding_box': {'type': 'Polygon',\n",
       "   'coordinates': [[[18.770287, 50.3990119],\n",
       "     [18.9148082, 50.3990119],\n",
       "     [18.9148082, 50.5311642],\n",
       "     [18.770287, 50.5311642]]]},\n",
       "  'attributes': {}},\n",
       " 'contributors': None,\n",
       " 'is_quote_status': False,\n",
       " 'retweet_count': 0,\n",
       " 'favorite_count': 0,\n",
       " 'favorited': False,\n",
       " 'retweeted': False,\n",
       " 'possibly_sensitive': False,\n",
       " 'lang': 'en'}"
      ]
     },
     "execution_count": 136,
     "metadata": {},
     "output_type": "execute_result"
    }
   ],
   "source": [
    "(test[0]._json)"
   ]
  },
  {
   "cell_type": "code",
   "execution_count": null,
   "metadata": {},
   "outputs": [],
   "source": [
    "city = ['Wro', 'Crac'] -> 'lat', 'long'  #this in string\n",
    "# add +15km"
   ]
  },
  {
   "cell_type": "code",
   "execution_count": 61,
   "metadata": {},
   "outputs": [
    {
     "data": {
      "text/plain": [
       "<tweepy.cursor.Cursor at 0x27e32dc9438>"
      ]
     },
     "execution_count": 61,
     "metadata": {},
     "output_type": "execute_result"
    }
   ],
   "source": [
    "tweepy.Cursor(api.search, q = 'endomondo')#, geocode = 'string with coordinates')"
   ]
  }
 ],
 "metadata": {
  "kernelspec": {
   "display_name": "Python 3",
   "language": "python",
   "name": "python3"
  },
  "language_info": {
   "codemirror_mode": {
    "name": "ipython",
    "version": 3
   },
   "file_extension": ".py",
   "mimetype": "text/x-python",
   "name": "python",
   "nbconvert_exporter": "python",
   "pygments_lexer": "ipython3",
   "version": "3.7.0"
  }
 },
 "nbformat": 4,
 "nbformat_minor": 2
}
